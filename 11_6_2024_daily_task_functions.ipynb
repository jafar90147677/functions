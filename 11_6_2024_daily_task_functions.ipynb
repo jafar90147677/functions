{
  "cells": [
    {
      "cell_type": "code",
      "execution_count": 1,
      "metadata": {
        "colab": {
          "base_uri": "https://localhost:8080/"
        },
        "id": "zzqEgfPuzSa9",
        "outputId": "cf254978-2e50-4da2-fe7a-47b7b8598adb"
      },
      "outputs": [
        {
          "name": "stdout",
          "output_type": "stream",
          "text": [
            "The vowels counts:3\n"
          ]
        }
      ],
      "source": [
        "# 1)\n",
        "def count_1(string):\n",
        "    vowels=\"aeiou\"\n",
        "    count1= 0\n",
        "    for i in string:\n",
        "        if i in vowels:\n",
        "            count1 += 1\n",
        "    print(f\"The vowels counts:{count1}\")\n",
        "count_1(\"hello world\")"
      ]
    },
    {
      "cell_type": "code",
      "execution_count": 2,
      "metadata": {
        "id": "tVXP3bRR1HNQ"
      },
      "outputs": [
        {
          "name": "stdout",
          "output_type": "stream",
          "text": [
            "The sum of the list is:15\n"
          ]
        }
      ],
      "source": [
        "# 2)\n",
        "list1=[1,2,3,4,5]\n",
        "def sum_numbers():\n",
        "  sum=0\n",
        "  for i in list1:\n",
        "    sum=sum+i\n",
        "  print(f\"The sum of the list is:{sum}\")\n",
        "sum_numbers()\n"
      ]
    },
    {
      "cell_type": "code",
      "execution_count": 5,
      "metadata": {},
      "outputs": [
        {
          "data": {
            "text/plain": [
              "True"
            ]
          },
          "execution_count": 5,
          "metadata": {},
          "output_type": "execute_result"
        }
      ],
      "source": [
        "# 3)\n",
        "def ran_check(num,low,high):\n",
        "    if num in range(low,high):\n",
        "        return True\n",
        "    else:\n",
        "        return False\n",
        "ran_check(100,10,101)"
      ]
    },
    {
      "cell_type": "code",
      "execution_count": 24,
      "metadata": {},
      "outputs": [
        {
          "name": "stdout",
          "output_type": "stream",
          "text": [
            "upper_case : 5\n",
            "lower case : 5\n"
          ]
        }
      ],
      "source": [
        "# 4)\n",
        "def count3(string):\n",
        "    count1=0 \n",
        "    count2=0\n",
        "    for i in string:\n",
        "        if i.isupper():\n",
        "            count1+=1\n",
        "        else:\n",
        "            if i.islower():\n",
        "                count2 +=1\n",
        "    return count1,count2\n",
        "upper_case,lower_case=count3(\"helloWORLD\")\n",
        "print(\"upper_case :\",upper_case)\n",
        "print(\"lower case :\",lower_case)"
      ]
    },
    {
      "cell_type": "code",
      "execution_count": 20,
      "metadata": {},
      "outputs": [
        {
          "data": {
            "text/plain": [
              "True"
            ]
          },
          "execution_count": 20,
          "metadata": {},
          "output_type": "execute_result"
        }
      ],
      "source": [
        "# 5)\n",
        "import math\n",
        "def is_prime():\n",
        "    num=int(input(\"enter a prime number:\"))\n",
        "    for i in range(2, math.floor(num)+1):\n",
        "        if num%i==0:\n",
        "            return True\n",
        "        else:\n",
        "            return False\n",
        "\n",
        "is_prime()\n",
        "    "
      ]
    },
    {
      "cell_type": "code",
      "execution_count": 15,
      "metadata": {},
      "outputs": [
        {
          "name": "stdout",
          "output_type": "stream",
          "text": [
            "The number of characters in the string is:5\n"
          ]
        }
      ],
      "source": [
        "# 6)\n",
        "string1=\"hello\"\n",
        "def count_characters():\n",
        "    count=0\n",
        "    for i in string1:\n",
        "        count+=1\n",
        "    print(f\"The number of characters in the string is:{count}\")\n",
        "count_characters()"
      ]
    },
    {
      "cell_type": "code",
      "execution_count": 7,
      "metadata": {},
      "outputs": [
        {
          "name": "stdout",
          "output_type": "stream",
          "text": [
            "The largest number in the list is:190\n"
          ]
        }
      ],
      "source": [
        "# 7)\n",
        "list2=[23,65,10,29,80,190]\n",
        "def largest_number():\n",
        "    largest=list2[0]\n",
        "    for i in list2:\n",
        "        if i>largest:\n",
        "            largest=i\n",
        "    print(f\"The largest number in the list is:{largest}\")\n",
        "\n",
        "largest_number()"
      ]
    },
    {
      "cell_type": "code",
      "execution_count": 9,
      "metadata": {},
      "outputs": [
        {
          "name": "stdout",
          "output_type": "stream",
          "text": [
            "The sum of the digits is:10\n"
          ]
        }
      ],
      "source": [
        "# 8)\n",
        "def sum_of_digits():\n",
        "    sum=0 \n",
        "    num3=input(\"enter a number:\")\n",
        "    for i in num3:\n",
        "        sum=sum+int(i)\n",
        "    print(f\"The sum of the digits is:{sum}\")\n",
        "\n",
        "sum_of_digits()"
      ]
    },
    {
      "cell_type": "code",
      "execution_count": 10,
      "metadata": {},
      "outputs": [
        {
          "name": "stdout",
          "output_type": "stream",
          "text": [
            "Enter a list of number: ['1', '1', '1', '2', '1', '2', '2', '2', '2', '2']\n",
            "The mode of the list is:2\n"
          ]
        }
      ],
      "source": [
        "# 9)\n",
        "def find_mode():\n",
        "    list3=input(\"enter a list: \").split(\",\")\n",
        "    print(f\"Enter a list of number:\",list3)\n",
        "    for i in list3:\n",
        "        if list3.count(i)>1:\n",
        "            a=i\n",
        "    print(f\"The mode of the list is:{a}\")\n",
        "\n",
        "find_mode()"
      ]
    },
    {
      "cell_type": "code",
      "execution_count": 26,
      "metadata": {},
      "outputs": [
        {
          "data": {
            "text/plain": [
              "True"
            ]
          },
          "execution_count": 26,
          "metadata": {},
          "output_type": "execute_result"
        }
      ],
      "source": [
        "# 10)\n",
        "def is_anagram(s1,s2):\n",
        "    s1=list(s1)\n",
        "    s2=list(s2)\n",
        "    if (sorted(s1) == sorted(s2)):\n",
        "        return True \n",
        "    else:\n",
        "        return False \n",
        "is_anagram(\"listen\",\"silent\")\n",
        "        "
      ]
    },
    {
      "cell_type": "code",
      "execution_count": 12,
      "metadata": {},
      "outputs": [
        {
          "data": {
            "text/plain": [
              "120"
            ]
          },
          "execution_count": 12,
          "metadata": {},
          "output_type": "execute_result"
        }
      ],
      "source": [
        "# 11)\n",
        "def function_factorial(n):\n",
        "    if n==1 or n==0:\n",
        "        return 1\n",
        "    else:\n",
        "        return n*function_factorial(n-1)\n",
        "        \n",
        "function_factorial(5)"
      ]
    },
    {
      "cell_type": "code",
      "execution_count": 1,
      "metadata": {},
      "outputs": [
        {
          "data": {
            "text/plain": [
              "5"
            ]
          },
          "execution_count": 1,
          "metadata": {},
          "output_type": "execute_result"
        }
      ],
      "source": [
        "# 12)\n",
        "def function_fibonacci(n):\n",
        "    if n==0 or n==1:\n",
        "        return n\n",
        "    else:\n",
        "        return function_fibonacci(n-1)+function_fibonacci(n-2)\n",
        "\n",
        "function_fibonacci(5)"
      ]
    },
    {
      "cell_type": "code",
      "execution_count": 2,
      "metadata": {},
      "outputs": [
        {
          "data": {
            "text/plain": [
              "15"
            ]
          },
          "execution_count": 2,
          "metadata": {},
          "output_type": "execute_result"
        }
      ],
      "source": [
        "# 13)\n",
        "def function_factorial(n):\n",
        "    if n<=1:\n",
        "        return n\n",
        "    else:\n",
        "        return n+function_factorial(n-1)\n",
        "        \n",
        "function_factorial(5)"
      ]
    },
    {
      "cell_type": "code",
      "execution_count": 1,
      "metadata": {},
      "outputs": [
        {
          "data": {
            "text/plain": [
              "3.0198773448773446"
            ]
          },
          "execution_count": 1,
          "metadata": {},
          "output_type": "execute_result"
        }
      ],
      "source": [
        "# 14)\n",
        "list2=[]\n",
        "def harmonic(n):\n",
        "    for i in range(1,n+2):\n",
        "        list2.append(1/i)\n",
        "    return sum(list2)\n",
        "harmonic(10)\n"
      ]
    },
    {
      "cell_type": "code",
      "execution_count": 2,
      "metadata": {},
      "outputs": [
        {
          "data": {
            "text/plain": [
              "True"
            ]
          },
          "execution_count": 2,
          "metadata": {},
          "output_type": "execute_result"
        }
      ],
      "source": [
        "# 15)\n",
        "def  palindrome(n):\n",
        "    if str(n)==str(n)[::-1]:\n",
        "        return True\n",
        "    else:\n",
        "        return False\n",
        "\n",
        "palindrome(121)"
      ]
    },
    {
      "cell_type": "code",
      "execution_count": 12,
      "metadata": {},
      "outputs": [
        {
          "data": {
            "text/plain": [
              "[1, 4, 9, 16, 25, 36, 49]"
            ]
          },
          "execution_count": 12,
          "metadata": {},
          "output_type": "execute_result"
        }
      ],
      "source": [
        "# 16)\n",
        "list5=[1,2,3,4,5,6,7]\n",
        "a=list(map(lambda x:x**2,list5))\n",
        "a"
      ]
    },
    {
      "cell_type": "code",
      "execution_count": 20,
      "metadata": {},
      "outputs": [
        {
          "data": {
            "text/plain": [
              "[6, 5, 2]"
            ]
          },
          "execution_count": 20,
          "metadata": {},
          "output_type": "execute_result"
        }
      ],
      "source": [
        "# 17)\n",
        "list5=[\"sadiqe\",\"jafar\",\"md\"]\n",
        "list(map(lambda x:len(x),list5))"
      ]
    },
    {
      "cell_type": "code",
      "execution_count": 22,
      "metadata": {},
      "outputs": [
        {
          "data": {
            "text/plain": [
              "['Ajay']"
            ]
          },
          "execution_count": 22,
          "metadata": {},
          "output_type": "execute_result"
        }
      ],
      "source": [
        "# 18)\n",
        "list7=[\"Ajay\",\"vaj\"]\n",
        "list(filter(lambda x:x[0]==\"A\",list7))"
      ]
    },
    {
      "cell_type": "markdown",
      "metadata": {},
      "source": []
    },
    {
      "cell_type": "code",
      "execution_count": 23,
      "metadata": {},
      "outputs": [
        {
          "data": {
            "text/plain": [
              "['sadiqe']"
            ]
          },
          "execution_count": 23,
          "metadata": {},
          "output_type": "execute_result"
        }
      ],
      "source": [
        "# 19)\n",
        "list8=[\"sadiqe\",\"ja\"]\n",
        "list(filter(lambda x:len(x)>5,list8))"
      ]
    },
    {
      "cell_type": "code",
      "execution_count": 24,
      "metadata": {},
      "outputs": [
        {
          "data": {
            "text/plain": [
              "[4, 16]"
            ]
          },
          "execution_count": 24,
          "metadata": {},
          "output_type": "execute_result"
        }
      ],
      "source": [
        "# 20)\n",
        "list_1=[1,2,3,4,5]\n",
        "list_2=list(map(lambda x:x**2,list_1))\n",
        "list(filter(lambda x:x%2==0,list_2))"
      ]
    },
    {
      "cell_type": "code",
      "execution_count": null,
      "metadata": {},
      "outputs": [],
      "source": []
    }
  ],
  "metadata": {
    "colab": {
      "provenance": []
    },
    "kernelspec": {
      "display_name": "Python 3",
      "name": "python3"
    },
    "language_info": {
      "codemirror_mode": {
        "name": "ipython",
        "version": 3
      },
      "file_extension": ".py",
      "mimetype": "text/x-python",
      "name": "python",
      "nbconvert_exporter": "python",
      "pygments_lexer": "ipython3",
      "version": "3.11.7"
    }
  },
  "nbformat": 4,
  "nbformat_minor": 0
}
